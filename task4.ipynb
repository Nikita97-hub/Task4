{
 "cells": [
  {
   "cell_type": "markdown",
   "id": "a69336f4-9f70-4674-9a02-bea07487a0a4",
   "metadata": {},
   "source": [
    "append(): Adds an element at the end of the list."
   ]
  },
  {
   "cell_type": "code",
   "execution_count": 2,
   "id": "367a386c-4de8-48fd-8ffd-3e094a342c81",
   "metadata": {},
   "outputs": [],
   "source": [
    "my_list = [1, 2, 3]\n",
    "my_list.append(4)"
   ]
  },
  {
   "cell_type": "code",
   "execution_count": 4,
   "id": "dc9a960e-b96b-4aab-8413-3c3c79d8149f",
   "metadata": {},
   "outputs": [
    {
     "name": "stdout",
     "output_type": "stream",
     "text": [
      "[1, 2, 3, 4]\n"
     ]
    }
   ],
   "source": [
    "print(my_list)"
   ]
  },
  {
   "cell_type": "markdown",
   "id": "357ab042-7358-41ce-93f6-80f351515087",
   "metadata": {},
   "source": [
    "clear(): Removes all the elements from the list."
   ]
  },
  {
   "cell_type": "code",
   "execution_count": 7,
   "id": "2a68c350-1be5-4a82-af01-a35ea8fac2ab",
   "metadata": {},
   "outputs": [],
   "source": [
    "my_list = [1, 2, 3, 4]\n",
    "my_list.clear()\n"
   ]
  },
  {
   "cell_type": "code",
   "execution_count": 9,
   "id": "4dc12cd2-cfd2-4542-be33-39c16ece79db",
   "metadata": {},
   "outputs": [
    {
     "name": "stdout",
     "output_type": "stream",
     "text": [
      "[]\n"
     ]
    }
   ],
   "source": [
    "print(my_list)"
   ]
  },
  {
   "cell_type": "markdown",
   "id": "e5e9df64-f032-4161-b8bc-22020b3566ed",
   "metadata": {},
   "source": [
    "copy(): Returns a copy of the list"
   ]
  },
  {
   "cell_type": "code",
   "execution_count": 12,
   "id": "05fb222b-4708-4797-97f1-a78ec7e60281",
   "metadata": {},
   "outputs": [],
   "source": [
    "my_list = [1, 2, 3]\n",
    "new_list = my_list.copy()"
   ]
  },
  {
   "cell_type": "code",
   "execution_count": 14,
   "id": "a8483c42-d9ba-4a25-b6f0-7957ad81ba94",
   "metadata": {},
   "outputs": [
    {
     "name": "stdout",
     "output_type": "stream",
     "text": [
      "[1, 2, 3]\n"
     ]
    }
   ],
   "source": [
    "print(my_list)"
   ]
  },
  {
   "cell_type": "code",
   "execution_count": 16,
   "id": "f6a0e60f-d307-4822-b784-d0a767df7a8f",
   "metadata": {},
   "outputs": [
    {
     "name": "stdout",
     "output_type": "stream",
     "text": [
      "[1, 2, 3]\n"
     ]
    }
   ],
   "source": [
    "print(new_list)"
   ]
  },
  {
   "cell_type": "markdown",
   "id": "03bce1d7-f60c-46f1-b134-ded502b486e6",
   "metadata": {},
   "source": [
    "count(): Returns the number of elements with the specified value."
   ]
  },
  {
   "cell_type": "code",
   "execution_count": 19,
   "id": "a3850058-7e41-49e8-b8b1-78f52205ea5e",
   "metadata": {},
   "outputs": [],
   "source": [
    "my_list = [1, 2, 3, 2, 2, 4]"
   ]
  },
  {
   "cell_type": "code",
   "execution_count": 21,
   "id": "a31a3b9d-78fb-449b-b264-594a95433ae7",
   "metadata": {},
   "outputs": [],
   "source": [
    "count_of_twos = my_list.count(2)"
   ]
  },
  {
   "cell_type": "code",
   "execution_count": 23,
   "id": "8586c97a-b0a6-48ce-a506-e9016cbceff4",
   "metadata": {},
   "outputs": [
    {
     "name": "stdout",
     "output_type": "stream",
     "text": [
      "3\n"
     ]
    }
   ],
   "source": [
    "print(count_of_twos)"
   ]
  },
  {
   "cell_type": "markdown",
   "id": "72add2b3-7b63-4376-9277-884b15c61c80",
   "metadata": {},
   "source": [
    "count(): Returns the number of elements with the specified value."
   ]
  },
  {
   "cell_type": "markdown",
   "id": "1c7d0bfd-4f5a-4df8-9492-f10c1e6d9718",
   "metadata": {},
   "source": [
    "my_list = [1, 2, 3, 2, 2, 4]\n",
    "count_of_two = my_list.count(2)"
   ]
  },
  {
   "cell_type": "code",
   "execution_count": 32,
   "id": "f3d46db3-5f5d-4d03-aba2-7d559ff6fd6f",
   "metadata": {},
   "outputs": [
    {
     "name": "stdout",
     "output_type": "stream",
     "text": [
      "3\n"
     ]
    }
   ],
   "source": [
    "print(count_of_two)"
   ]
  },
  {
   "cell_type": "markdown",
   "id": "49cd653e-16df-427b-bcc1-717da80fe4ab",
   "metadata": {},
   "source": [
    "extend(): Adds the elements of a list (or any iterable) to the end of the current list."
   ]
  },
  {
   "cell_type": "code",
   "execution_count": 35,
   "id": "eb1e1808-027a-4496-89a7-ae9b7fc46cbb",
   "metadata": {},
   "outputs": [],
   "source": [
    "my_list = [1, 2, 3]\n",
    "my_list.extend([4, 5, 6])"
   ]
  },
  {
   "cell_type": "code",
   "execution_count": 40,
   "id": "e7f04c11-b80e-409b-815e-48bb5d79503a",
   "metadata": {},
   "outputs": [
    {
     "name": "stdout",
     "output_type": "stream",
     "text": [
      "[1, 2, 3, 4, 5, 6]\n"
     ]
    }
   ],
   "source": [
    "print(my_list)"
   ]
  },
  {
   "cell_type": "markdown",
   "id": "047251ff-b27d-40c7-9987-fbdd8eb27b87",
   "metadata": {},
   "source": [
    "index(): Returns the index of the first element with the specified value."
   ]
  },
  {
   "cell_type": "code",
   "execution_count": 42,
   "id": "026cccbf-798b-4c9f-a406-5f4e07666f95",
   "metadata": {},
   "outputs": [],
   "source": [
    "my_list = [1, 2, 3, 2]\n",
    "index_of_two = my_list.index(2)"
   ]
  },
  {
   "cell_type": "code",
   "execution_count": 44,
   "id": "2ccfe3ea-7411-4af4-ac71-c8e11ef43fe3",
   "metadata": {},
   "outputs": [
    {
     "name": "stdout",
     "output_type": "stream",
     "text": [
      "1\n"
     ]
    }
   ],
   "source": [
    "print(index_of_two)"
   ]
  },
  {
   "cell_type": "markdown",
   "id": "1654546f-3de4-4bee-91fa-2c51d12993a3",
   "metadata": {},
   "source": [
    "insert(): Adds an element at the specified position."
   ]
  },
  {
   "cell_type": "code",
   "execution_count": 54,
   "id": "7ba5daa9-f312-4651-9325-4648c582abd6",
   "metadata": {},
   "outputs": [],
   "source": [
    "my_list = [1, 2, 4]\n",
    "my_list.insert(3, 3)"
   ]
  },
  {
   "cell_type": "code",
   "execution_count": 56,
   "id": "d1639447-54cc-4cb8-99b2-5971a389909a",
   "metadata": {},
   "outputs": [
    {
     "name": "stdout",
     "output_type": "stream",
     "text": [
      "[1, 2, 4, 3]\n"
     ]
    }
   ],
   "source": [
    "print(my_list) "
   ]
  },
  {
   "cell_type": "markdown",
   "id": "f0576fa0-720f-46b8-8c22-23a15cb8954f",
   "metadata": {},
   "source": [
    "pop(): Removes the element at the specified position"
   ]
  },
  {
   "cell_type": "code",
   "execution_count": 61,
   "id": "ad338bd1-ffc3-4b41-a3fa-797ee467c89c",
   "metadata": {},
   "outputs": [],
   "source": [
    "popped_element = my_list.pop(2)"
   ]
  },
  {
   "cell_type": "code",
   "execution_count": 63,
   "id": "34cb776f-20fe-4923-9898-7f80bd63323e",
   "metadata": {},
   "outputs": [
    {
     "name": "stdout",
     "output_type": "stream",
     "text": [
      "4\n"
     ]
    }
   ],
   "source": [
    "print(popped_element) "
   ]
  },
  {
   "cell_type": "code",
   "execution_count": 65,
   "id": "b0f5c3f1-f462-453c-942b-94c81b23aa65",
   "metadata": {},
   "outputs": [
    {
     "name": "stdout",
     "output_type": "stream",
     "text": [
      "[1, 2, 3]\n"
     ]
    }
   ],
   "source": [
    "print(my_list)"
   ]
  },
  {
   "cell_type": "markdown",
   "id": "ec860f86-d94a-4794-89d6-555b51f8324b",
   "metadata": {},
   "source": [
    "remove(): Removes the first item with the specified value."
   ]
  },
  {
   "cell_type": "code",
   "execution_count": 68,
   "id": "3f2bb718-32cd-4994-b8a1-9a2c3cc559a6",
   "metadata": {},
   "outputs": [],
   "source": [
    "my_list = [1, 2, 3, 2]\n",
    "my_list.remove(2)"
   ]
  },
  {
   "cell_type": "code",
   "execution_count": 70,
   "id": "38f543f8-d9af-4f6c-8df9-79154850b57e",
   "metadata": {},
   "outputs": [
    {
     "name": "stdout",
     "output_type": "stream",
     "text": [
      "[1, 3, 2]\n"
     ]
    }
   ],
   "source": [
    "print(my_list) "
   ]
  },
  {
   "cell_type": "markdown",
   "id": "f99e1a9d-abfa-4da2-a62d-309ccb5dea14",
   "metadata": {},
   "source": [
    "reverse(): Reverses the order of the list."
   ]
  },
  {
   "cell_type": "code",
   "execution_count": 75,
   "id": "06a1f850-ad7a-4240-9c10-d0734c0a1c5d",
   "metadata": {},
   "outputs": [],
   "source": [
    "my_list = [1, 2, 3, 4]\n",
    "my_list.reverse()"
   ]
  },
  {
   "cell_type": "code",
   "execution_count": 77,
   "id": "fa18681e-c103-4e20-a6e9-90201ca460b2",
   "metadata": {},
   "outputs": [
    {
     "name": "stdout",
     "output_type": "stream",
     "text": [
      "[4, 3, 2, 1]\n"
     ]
    }
   ],
   "source": [
    "print(my_list)"
   ]
  },
  {
   "cell_type": "markdown",
   "id": "5c6f3c1c-4ae6-4020-8239-17711cf6273d",
   "metadata": {},
   "source": [
    "sort(): Sorts the list."
   ]
  },
  {
   "cell_type": "code",
   "execution_count": 80,
   "id": "22f30d67-c0ca-48e3-a81a-fa0cee61807a",
   "metadata": {},
   "outputs": [],
   "source": [
    "my_list = [4, 2, 3, 1]\n",
    "my_list.sort()"
   ]
  },
  {
   "cell_type": "code",
   "execution_count": 82,
   "id": "f0f41892-de50-495c-90c8-8fe186e47f48",
   "metadata": {},
   "outputs": [
    {
     "name": "stdout",
     "output_type": "stream",
     "text": [
      "[1, 2, 3, 4]\n"
     ]
    }
   ],
   "source": [
    "print(my_list)"
   ]
  },
  {
   "cell_type": "code",
   "execution_count": null,
   "id": "33bd9bb3-3b01-4d7d-bedd-fb2002e76562",
   "metadata": {},
   "outputs": [],
   "source": []
  }
 ],
 "metadata": {
  "kernelspec": {
   "display_name": "Python 3 (ipykernel)",
   "language": "python",
   "name": "python3"
  },
  "language_info": {
   "codemirror_mode": {
    "name": "ipython",
    "version": 3
   },
   "file_extension": ".py",
   "mimetype": "text/x-python",
   "name": "python",
   "nbconvert_exporter": "python",
   "pygments_lexer": "ipython3",
   "version": "3.12.4"
  }
 },
 "nbformat": 4,
 "nbformat_minor": 5
}
